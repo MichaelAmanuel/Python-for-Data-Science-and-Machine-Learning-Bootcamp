{
  "nbformat": 4,
  "nbformat_minor": 0,
  "metadata": {
    "colab": {
      "provenance": []
    },
    "kernelspec": {
      "name": "python3",
      "display_name": "Python 3"
    },
    "language_info": {
      "name": "python"
    }
  },
  "cells": [
    {
      "cell_type": "code",
      "execution_count": 2,
      "metadata": {
        "id": "6F2zPRaBRg_p"
      },
      "outputs": [],
      "source": [
        "import numpy as np\n",
        "import pandas as pd\n",
        "from sklearn.model_selection import train_test_split"
      ]
    },
    {
      "cell_type": "code",
      "source": [
        "a = np.arange(1, 101, 1)"
      ],
      "metadata": {
        "id": "BGGsWGBKSC9y"
      },
      "execution_count": 3,
      "outputs": []
    },
    {
      "cell_type": "code",
      "source": [
        "a"
      ],
      "metadata": {
        "colab": {
          "base_uri": "https://localhost:8080/"
        },
        "id": "0PuspaEeSWo7",
        "outputId": "bc21a7f2-a27e-405e-d450-608adb63f019"
      },
      "execution_count": 4,
      "outputs": [
        {
          "output_type": "execute_result",
          "data": {
            "text/plain": [
              "array([  1,   2,   3,   4,   5,   6,   7,   8,   9,  10,  11,  12,  13,\n",
              "        14,  15,  16,  17,  18,  19,  20,  21,  22,  23,  24,  25,  26,\n",
              "        27,  28,  29,  30,  31,  32,  33,  34,  35,  36,  37,  38,  39,\n",
              "        40,  41,  42,  43,  44,  45,  46,  47,  48,  49,  50,  51,  52,\n",
              "        53,  54,  55,  56,  57,  58,  59,  60,  61,  62,  63,  64,  65,\n",
              "        66,  67,  68,  69,  70,  71,  72,  73,  74,  75,  76,  77,  78,\n",
              "        79,  80,  81,  82,  83,  84,  85,  86,  87,  88,  89,  90,  91,\n",
              "        92,  93,  94,  95,  96,  97,  98,  99, 100])"
            ]
          },
          "metadata": {},
          "execution_count": 4
        }
      ]
    },
    {
      "cell_type": "code",
      "source": [
        "b = np.arange(501, 601)"
      ],
      "metadata": {
        "id": "hafbeQFDSaLb"
      },
      "execution_count": 7,
      "outputs": []
    },
    {
      "cell_type": "code",
      "source": [
        "b"
      ],
      "metadata": {
        "colab": {
          "base_uri": "https://localhost:8080/"
        },
        "id": "V8HzDbnjSiC6",
        "outputId": "3c27d83d-704a-43f2-8e78-393fc2834096"
      },
      "execution_count": 8,
      "outputs": [
        {
          "output_type": "execute_result",
          "data": {
            "text/plain": [
              "array([501, 502, 503, 504, 505, 506, 507, 508, 509, 510, 511, 512, 513,\n",
              "       514, 515, 516, 517, 518, 519, 520, 521, 522, 523, 524, 525, 526,\n",
              "       527, 528, 529, 530, 531, 532, 533, 534, 535, 536, 537, 538, 539,\n",
              "       540, 541, 542, 543, 544, 545, 546, 547, 548, 549, 550, 551, 552,\n",
              "       553, 554, 555, 556, 557, 558, 559, 560, 561, 562, 563, 564, 565,\n",
              "       566, 567, 568, 569, 570, 571, 572, 573, 574, 575, 576, 577, 578,\n",
              "       579, 580, 581, 582, 583, 584, 585, 586, 587, 588, 589, 590, 591,\n",
              "       592, 593, 594, 595, 596, 597, 598, 599, 600])"
            ]
          },
          "metadata": {},
          "execution_count": 8
        }
      ]
    },
    {
      "cell_type": "code",
      "source": [
        "train_test_split(a)"
      ],
      "metadata": {
        "colab": {
          "base_uri": "https://localhost:8080/"
        },
        "id": "txyoJIotSihL",
        "outputId": "ae6f0c15-5228-42c8-ac9f-b94aeab1d03f"
      },
      "execution_count": 9,
      "outputs": [
        {
          "output_type": "execute_result",
          "data": {
            "text/plain": [
              "[array([ 74,  72,  27,  87,  22,  17,  32,  44,  54,  98,  12,  25,  28,\n",
              "         64,  24,  16,  80,  47,  68,  52,  85,  83,  23,   1,  43,  86,\n",
              "         21,  38,  62,  20,  13,  35,  60,  61,  19,  37,  48,  65,  30,\n",
              "         95,  46,  45,  10,  99,  90,   4,  69,  26,  93,  77,  59,   8,\n",
              "         82,  89,  58,  66,  81,   6,  94,  34, 100,  14,  18,  91,  36,\n",
              "         97,  51,  78,  88,  71,   5,  49,  57,  92,  75]),\n",
              " array([ 2, 63, 73, 76, 55, 41, 56, 11,  7, 67, 79, 33, 50,  9, 53, 31, 40,\n",
              "        84, 96,  3, 39, 42, 15, 29, 70])]"
            ]
          },
          "metadata": {},
          "execution_count": 9
        }
      ]
    },
    {
      "cell_type": "code",
      "source": [
        "a_train, a_test = train_test_split(a, test_size=0.2, random_state=42)"
      ],
      "metadata": {
        "id": "LPjGYdc8SsAT"
      },
      "execution_count": 19,
      "outputs": []
    },
    {
      "cell_type": "code",
      "source": [
        "a_train.shape, a_test.shape"
      ],
      "metadata": {
        "colab": {
          "base_uri": "https://localhost:8080/"
        },
        "id": "PglP9QJjS2oq",
        "outputId": "f285b394-708f-4ad0-d3f5-ab540638295e"
      },
      "execution_count": 20,
      "outputs": [
        {
          "output_type": "execute_result",
          "data": {
            "text/plain": [
              "((80,), (20,))"
            ]
          },
          "metadata": {},
          "execution_count": 20
        }
      ]
    },
    {
      "cell_type": "code",
      "source": [
        "a_train"
      ],
      "metadata": {
        "colab": {
          "base_uri": "https://localhost:8080/"
        },
        "id": "pyVMwiZqT19Q",
        "outputId": "c5d5140b-63bb-4f5b-c2b8-b992d86cca19"
      },
      "execution_count": 21,
      "outputs": [
        {
          "output_type": "execute_result",
          "data": {
            "text/plain": [
              "array([ 56,  89,  27,  43,  70,  16,  41,  97,  10,  73,  12,  48,  86,\n",
              "        29,  94,   6,  67,  66,  36,  17,  50,  35,   8,  96,  28,  20,\n",
              "        82,  26,  63,  14,  25,   4,  18,  39,   9,  79,   7,  65,  37,\n",
              "        90,  57, 100,  55,  44,  51,  68,  47,  69,  62,  98,  80,  42,\n",
              "        59,  49,  99,  58,  76,  33,  95,  60,  64,  85,  38,  30,   2,\n",
              "        53,  22,   3,  24,  88,  92,  75,  87,  83,  21,  61,  72,  15,\n",
              "        93,  52])"
            ]
          },
          "metadata": {},
          "execution_count": 21
        }
      ]
    },
    {
      "cell_type": "code",
      "source": [
        "a_test"
      ],
      "metadata": {
        "colab": {
          "base_uri": "https://localhost:8080/"
        },
        "id": "ZmrRLTMIUADe",
        "outputId": "10a5e0d2-7cca-4e02-9b77-e6fba06aa899"
      },
      "execution_count": 22,
      "outputs": [
        {
          "output_type": "execute_result",
          "data": {
            "text/plain": [
              "array([84, 54, 71, 46, 45, 40, 23, 81, 11,  1, 19, 31, 74, 34, 91,  5, 77,\n",
              "       78, 13, 32])"
            ]
          },
          "metadata": {},
          "execution_count": 22
        }
      ]
    },
    {
      "cell_type": "code",
      "source": [
        "a_train, a_test, b_train, b_test = train_test_split(a, b, train_size=0.2, random_state=42)"
      ],
      "metadata": {
        "id": "0Wy91KE6UAx-"
      },
      "execution_count": 25,
      "outputs": []
    },
    {
      "cell_type": "code",
      "source": [
        "a_train, a_test"
      ],
      "metadata": {
        "colab": {
          "base_uri": "https://localhost:8080/"
        },
        "id": "xLSmZCYCVf8F",
        "outputId": "c6dbb04d-de3a-473f-d1c3-6ba271260816"
      },
      "execution_count": 28,
      "outputs": [
        {
          "output_type": "execute_result",
          "data": {
            "text/plain": [
              "(array([64, 85, 38, 30,  2, 53, 22,  3, 24, 88, 92, 75, 87, 83, 21, 61, 72,\n",
              "        15, 93, 52]),\n",
              " array([ 84,  54,  71,  46,  45,  40,  23,  81,  11,   1,  19,  31,  74,\n",
              "         34,  91,   5,  77,  78,  13,  32,  56,  89,  27,  43,  70,  16,\n",
              "         41,  97,  10,  73,  12,  48,  86,  29,  94,   6,  67,  66,  36,\n",
              "         17,  50,  35,   8,  96,  28,  20,  82,  26,  63,  14,  25,   4,\n",
              "         18,  39,   9,  79,   7,  65,  37,  90,  57, 100,  55,  44,  51,\n",
              "         68,  47,  69,  62,  98,  80,  42,  59,  49,  99,  58,  76,  33,\n",
              "         95,  60]))"
            ]
          },
          "metadata": {},
          "execution_count": 28
        }
      ]
    },
    {
      "cell_type": "code",
      "source": [
        "b_train, b_test"
      ],
      "metadata": {
        "colab": {
          "base_uri": "https://localhost:8080/"
        },
        "id": "Q1jiRHvsViFl",
        "outputId": "8d1b98a4-77ab-4458-8027-a1652b0639c8"
      },
      "execution_count": 27,
      "outputs": [
        {
          "output_type": "execute_result",
          "data": {
            "text/plain": [
              "(array([564, 585, 538, 530, 502, 553, 522, 503, 524, 588, 592, 575, 587,\n",
              "        583, 521, 561, 572, 515, 593, 552]),\n",
              " array([584, 554, 571, 546, 545, 540, 523, 581, 511, 501, 519, 531, 574,\n",
              "        534, 591, 505, 577, 578, 513, 532, 556, 589, 527, 543, 570, 516,\n",
              "        541, 597, 510, 573, 512, 548, 586, 529, 594, 506, 567, 566, 536,\n",
              "        517, 550, 535, 508, 596, 528, 520, 582, 526, 563, 514, 525, 504,\n",
              "        518, 539, 509, 579, 507, 565, 537, 590, 557, 600, 555, 544, 551,\n",
              "        568, 547, 569, 562, 598, 580, 542, 559, 549, 599, 558, 576, 533,\n",
              "        595, 560]))"
            ]
          },
          "metadata": {},
          "execution_count": 27
        }
      ]
    },
    {
      "cell_type": "code",
      "source": [
        "a_train.shape"
      ],
      "metadata": {
        "colab": {
          "base_uri": "https://localhost:8080/"
        },
        "id": "5yWE4akXVo9U",
        "outputId": "4308b82c-9429-4680-a858-1d35dc0fa945"
      },
      "execution_count": 30,
      "outputs": [
        {
          "output_type": "execute_result",
          "data": {
            "text/plain": [
              "(20,)"
            ]
          },
          "metadata": {},
          "execution_count": 30
        }
      ]
    },
    {
      "cell_type": "code",
      "source": [
        "a_test.shape"
      ],
      "metadata": {
        "colab": {
          "base_uri": "https://localhost:8080/"
        },
        "id": "oXVNuKhQVtRT",
        "outputId": "eeb709ed-b8c0-46a4-fbcb-7a0ae0edaefe"
      },
      "execution_count": 31,
      "outputs": [
        {
          "output_type": "execute_result",
          "data": {
            "text/plain": [
              "(80,)"
            ]
          },
          "metadata": {},
          "execution_count": 31
        }
      ]
    },
    {
      "cell_type": "code",
      "source": [
        "b_train.shape"
      ],
      "metadata": {
        "colab": {
          "base_uri": "https://localhost:8080/"
        },
        "id": "eTSeTMoeVytT",
        "outputId": "2657292b-d57b-4a3c-90c1-942472b48993"
      },
      "execution_count": 32,
      "outputs": [
        {
          "output_type": "execute_result",
          "data": {
            "text/plain": [
              "(20,)"
            ]
          },
          "metadata": {},
          "execution_count": 32
        }
      ]
    },
    {
      "cell_type": "code",
      "source": [
        "b_test.shape"
      ],
      "metadata": {
        "colab": {
          "base_uri": "https://localhost:8080/"
        },
        "id": "8nb6PMr5V0n8",
        "outputId": "60865ea8-9679-4da7-be2c-5787a8c82fa1"
      },
      "execution_count": 33,
      "outputs": [
        {
          "output_type": "execute_result",
          "data": {
            "text/plain": [
              "(80,)"
            ]
          },
          "metadata": {},
          "execution_count": 33
        }
      ]
    },
    {
      "cell_type": "code",
      "source": [],
      "metadata": {
        "id": "ZTpGnPcnV2gs"
      },
      "execution_count": null,
      "outputs": []
    }
  ]
}