{
 "cells": [
  {
   "cell_type": "code",
   "execution_count": 1,
   "id": "82ff9177-3617-47af-966b-3569b61324af",
   "metadata": {},
   "outputs": [],
   "source": [
    "## Importing the depedencies\n",
    "\n",
    "import pandas as pd\n",
    "import numpy as np\n",
    "%matplotlib inline\n",
    "import matplotlib.pyplot as plt\n",
    "from scipy import optimize\n",
    "import statsmodels.api as sm\n",
    "from sklearn.metrics import r2_score\n",
    "from sklearn.linear_model import LinearRegression\n"
   ]
  },
  {
   "cell_type": "code",
   "execution_count": 3,
   "id": "6ef59184-50ac-487c-b6d2-0a67bfea7979",
   "metadata": {},
   "outputs": [
    {
     "data": {
      "text/html": [
       "<div>\n",
       "<style scoped>\n",
       "    .dataframe tbody tr th:only-of-type {\n",
       "        vertical-align: middle;\n",
       "    }\n",
       "\n",
       "    .dataframe tbody tr th {\n",
       "        vertical-align: top;\n",
       "    }\n",
       "\n",
       "    .dataframe thead th {\n",
       "        text-align: right;\n",
       "    }\n",
       "</style>\n",
       "<table border=\"1\" class=\"dataframe\">\n",
       "  <thead>\n",
       "    <tr style=\"text-align: right;\">\n",
       "      <th></th>\n",
       "      <th>wage</th>\n",
       "      <th>hours</th>\n",
       "      <th>IQ</th>\n",
       "      <th>KWW</th>\n",
       "      <th>educ</th>\n",
       "      <th>exper</th>\n",
       "      <th>tenure</th>\n",
       "      <th>age</th>\n",
       "      <th>married</th>\n",
       "      <th>black</th>\n",
       "      <th>south</th>\n",
       "      <th>urban</th>\n",
       "      <th>sibs</th>\n",
       "      <th>brthord</th>\n",
       "      <th>meduc</th>\n",
       "      <th>feduc</th>\n",
       "      <th>lwage</th>\n",
       "    </tr>\n",
       "  </thead>\n",
       "  <tbody>\n",
       "    <tr>\n",
       "      <th>0</th>\n",
       "      <td>769</td>\n",
       "      <td>40</td>\n",
       "      <td>93</td>\n",
       "      <td>35</td>\n",
       "      <td>12</td>\n",
       "      <td>11</td>\n",
       "      <td>2</td>\n",
       "      <td>31</td>\n",
       "      <td>1</td>\n",
       "      <td>0</td>\n",
       "      <td>0</td>\n",
       "      <td>1</td>\n",
       "      <td>1</td>\n",
       "      <td>2</td>\n",
       "      <td>8</td>\n",
       "      <td>8</td>\n",
       "      <td>6.645091</td>\n",
       "    </tr>\n",
       "    <tr>\n",
       "      <th>1</th>\n",
       "      <td>808</td>\n",
       "      <td>50</td>\n",
       "      <td>119</td>\n",
       "      <td>41</td>\n",
       "      <td>18</td>\n",
       "      <td>11</td>\n",
       "      <td>16</td>\n",
       "      <td>37</td>\n",
       "      <td>1</td>\n",
       "      <td>0</td>\n",
       "      <td>0</td>\n",
       "      <td>1</td>\n",
       "      <td>1</td>\n",
       "      <td>.</td>\n",
       "      <td>14</td>\n",
       "      <td>14</td>\n",
       "      <td>6.694562</td>\n",
       "    </tr>\n",
       "    <tr>\n",
       "      <th>2</th>\n",
       "      <td>825</td>\n",
       "      <td>40</td>\n",
       "      <td>108</td>\n",
       "      <td>46</td>\n",
       "      <td>14</td>\n",
       "      <td>11</td>\n",
       "      <td>9</td>\n",
       "      <td>33</td>\n",
       "      <td>1</td>\n",
       "      <td>0</td>\n",
       "      <td>0</td>\n",
       "      <td>1</td>\n",
       "      <td>1</td>\n",
       "      <td>2</td>\n",
       "      <td>14</td>\n",
       "      <td>14</td>\n",
       "      <td>6.715384</td>\n",
       "    </tr>\n",
       "    <tr>\n",
       "      <th>3</th>\n",
       "      <td>650</td>\n",
       "      <td>40</td>\n",
       "      <td>96</td>\n",
       "      <td>32</td>\n",
       "      <td>12</td>\n",
       "      <td>13</td>\n",
       "      <td>7</td>\n",
       "      <td>32</td>\n",
       "      <td>1</td>\n",
       "      <td>0</td>\n",
       "      <td>0</td>\n",
       "      <td>1</td>\n",
       "      <td>4</td>\n",
       "      <td>3</td>\n",
       "      <td>12</td>\n",
       "      <td>12</td>\n",
       "      <td>6.476973</td>\n",
       "    </tr>\n",
       "    <tr>\n",
       "      <th>4</th>\n",
       "      <td>562</td>\n",
       "      <td>40</td>\n",
       "      <td>74</td>\n",
       "      <td>27</td>\n",
       "      <td>11</td>\n",
       "      <td>14</td>\n",
       "      <td>5</td>\n",
       "      <td>34</td>\n",
       "      <td>1</td>\n",
       "      <td>0</td>\n",
       "      <td>0</td>\n",
       "      <td>1</td>\n",
       "      <td>10</td>\n",
       "      <td>6</td>\n",
       "      <td>6</td>\n",
       "      <td>11</td>\n",
       "      <td>6.331502</td>\n",
       "    </tr>\n",
       "  </tbody>\n",
       "</table>\n",
       "</div>"
      ],
      "text/plain": [
       "   wage  hours   IQ  KWW  educ  exper  tenure  age  married  black  south  \\\n",
       "0   769     40   93   35    12     11       2   31        1      0      0   \n",
       "1   808     50  119   41    18     11      16   37        1      0      0   \n",
       "2   825     40  108   46    14     11       9   33        1      0      0   \n",
       "3   650     40   96   32    12     13       7   32        1      0      0   \n",
       "4   562     40   74   27    11     14       5   34        1      0      0   \n",
       "\n",
       "   urban  sibs brthord meduc feduc     lwage  \n",
       "0      1     1       2     8     8  6.645091  \n",
       "1      1     1       .    14    14  6.694562  \n",
       "2      1     1       2    14    14  6.715384  \n",
       "3      1     4       3    12    12  6.476973  \n",
       "4      1    10       6     6    11  6.331502  "
      ]
     },
     "execution_count": 3,
     "metadata": {},
     "output_type": "execute_result"
    }
   ],
   "source": [
    "df = pd.read_csv(\"wage2.csv\")\n",
    "df.head()"
   ]
  },
  {
   "cell_type": "code",
   "execution_count": 21,
   "id": "5473340a-af29-4500-ada8-5eecb0dc2a66",
   "metadata": {},
   "outputs": [
    {
     "data": {
      "text/html": [
       "<div>\n",
       "<style scoped>\n",
       "    .dataframe tbody tr th:only-of-type {\n",
       "        vertical-align: middle;\n",
       "    }\n",
       "\n",
       "    .dataframe tbody tr th {\n",
       "        vertical-align: top;\n",
       "    }\n",
       "\n",
       "    .dataframe thead th {\n",
       "        text-align: right;\n",
       "    }\n",
       "</style>\n",
       "<table border=\"1\" class=\"dataframe\">\n",
       "  <thead>\n",
       "    <tr style=\"text-align: right;\">\n",
       "      <th></th>\n",
       "      <th>educ</th>\n",
       "      <th>IQ</th>\n",
       "      <th>intercept</th>\n",
       "    </tr>\n",
       "  </thead>\n",
       "  <tbody>\n",
       "    <tr>\n",
       "      <th>0</th>\n",
       "      <td>12</td>\n",
       "      <td>93</td>\n",
       "      <td>1</td>\n",
       "    </tr>\n",
       "    <tr>\n",
       "      <th>1</th>\n",
       "      <td>18</td>\n",
       "      <td>119</td>\n",
       "      <td>1</td>\n",
       "    </tr>\n",
       "    <tr>\n",
       "      <th>2</th>\n",
       "      <td>14</td>\n",
       "      <td>108</td>\n",
       "      <td>1</td>\n",
       "    </tr>\n",
       "    <tr>\n",
       "      <th>3</th>\n",
       "      <td>12</td>\n",
       "      <td>96</td>\n",
       "      <td>1</td>\n",
       "    </tr>\n",
       "    <tr>\n",
       "      <th>4</th>\n",
       "      <td>11</td>\n",
       "      <td>74</td>\n",
       "      <td>1</td>\n",
       "    </tr>\n",
       "  </tbody>\n",
       "</table>\n",
       "</div>"
      ],
      "text/plain": [
       "   educ   IQ  intercept\n",
       "0    12   93          1\n",
       "1    18  119          1\n",
       "2    14  108          1\n",
       "3    12   96          1\n",
       "4    11   74          1"
      ]
     },
     "execution_count": 21,
     "metadata": {},
     "output_type": "execute_result"
    }
   ],
   "source": [
    "df['intercept'] = 1\n",
    "df_new = df[['educ','IQ','intercept']]\n",
    "df_new.head()"
   ]
  },
  {
   "cell_type": "code",
   "execution_count": 62,
   "id": "ce6b53b9-5f93-48d1-a35e-d194bdc8fc65",
   "metadata": {},
   "outputs": [
    {
     "name": "stdout",
     "output_type": "stream",
     "text": [
      "Parameters:  const    5.846300\n",
      "IQ       0.075256\n",
      "dtype: float64\n",
      "R2:  0.26594340844507314\n"
     ]
    }
   ],
   "source": [
    "Y =df[['educ']]\n",
    "X = df[['IQ']]\n",
    "i = df[['intercept']]\n",
    "\n",
    "model = sm.OLS(Y,sm.add_constant(X)).fit()\n",
    "# model = sm.OLS(Y, i, missing='drop').fit()\n",
    "# # model_result = model.fit()\n",
    "model_result.summary()\n",
    "\n",
    "# print(model.params)\n",
    "\n",
    "print('Parameters: ', model.params)\n",
    "print('R2: ', model.rsquared)\n"
   ]
  },
  {
   "cell_type": "code",
   "execution_count": null,
   "id": "d5963817-9d80-45a9-9ab6-3525f73c0cb8",
   "metadata": {},
   "outputs": [],
   "source": [
    " "
   ]
  },
  {
   "cell_type": "code",
   "execution_count": 63,
   "id": "703ef112-cd51-463e-82b7-7fd799a0ac62",
   "metadata": {},
   "outputs": [
    {
     "name": "stdout",
     "output_type": "stream",
     "text": [
      "intercept : 53.69, delta1_tilda : 3.53\n"
     ]
    }
   ],
   "source": [
    "y = np.array(df_new['IQ'])\n",
    "x = np.array(df_new['educ'])\n",
    "intercept,delta1_tilda = sm.OLS(y,sm.add_constant(x)).fit().params\n",
    "print(f'intercept : {intercept:.2f}, delta1_tilda : {delta1_tilda:.2f}')"
   ]
  },
  {
   "cell_type": "markdown",
   "id": "c4164bf7-0c67-4624-9520-aa5d0dbab7fd",
   "metadata": {},
   "source": [
    "### 3b"
   ]
  },
  {
   "cell_type": "code",
   "execution_count": 108,
   "id": "6a04b338-6b13-42ac-9f05-6d70237de14e",
   "metadata": {},
   "outputs": [
    {
     "name": "stdout",
     "output_type": "stream",
     "text": [
      "i : 5.97, b_1_tilda : 0.06\n"
     ]
    }
   ],
   "source": [
    "y = np.array(df['wage'])\n",
    "y = np.log(y)\n",
    "x = np.array(df['educ'])\n",
    "\n",
    "i, b_1_tilda = sm.OLS(y, sm.add_constant(x)).fit().params\n",
    "print(f'i : {i:.2f}, b_1_tilda : {b_1_tilda:.2f}')\n"
   ]
  },
  {
   "cell_type": "code",
   "execution_count": 109,
   "id": "7a116a1f-7b2e-47cf-95cb-dee73b2f4616",
   "metadata": {},
   "outputs": [
    {
     "data": {
      "text/plain": [
       "array([1.6279762 , 2.43239241])"
      ]
     },
     "execution_count": 109,
     "metadata": {},
     "output_type": "execute_result"
    }
   ],
   "source": [
    "#fit the model\n",
    "fit = np.polyfit(y, x,1)\n",
    "fit\n"
   ]
  },
  {
   "cell_type": "code",
   "execution_count": 110,
   "id": "28259e86-6ed2-45d4-a5a4-eaf585a81d74",
   "metadata": {},
   "outputs": [
    {
     "data": {
      "image/png": "[encoded data removed]",
      "text/plain": [
       "<Figure size 640x480 with 1 Axes>"
      ]
     },
     "metadata": {},
     "output_type": "display_data"
    }
   ],
   "source": [
    "plt.scatter(x, y)\n",
    "plt.show()\n"
   ]
  },
  {
   "cell_type": "markdown",
   "id": "4b9e7fc5-855e-4c90-a110-77617f9dcf41",
   "metadata": {},
   "source": [
    "## 3C"
   ]
  },
  {
   "cell_type": "code",
   "execution_count": 103,
   "id": "4941363c-17ef-433c-8996-cf56834993d9",
   "metadata": {},
   "outputs": [
    {
     "name": "stdout",
     "output_type": "stream",
     "text": [
      "i : 5.66, b_1 : 0.04, b_2 : 0.01\n"
     ]
    }
   ],
   "source": [
    "y = np.array(df['wage'])\n",
    "y = np.log(y)\n",
    "x = np.array(df[['educ','IQ']])\n",
    "i, b_1, b_2 = sm.OLS(y, sm.add_constant(x)).fit().params\n",
    "print(f'i : {i:.2f}, b_1 : {b_1:.2f}, b_2 : {b_2:.2f}')\n"
   ]
  },
  {
   "cell_type": "code",
   "execution_count": 111,
   "id": "19188b9d-a995-4f4f-bcc0-140a33a810e0",
   "metadata": {},
   "outputs": [
    {
     "name": "stdout",
     "output_type": "stream",
     "text": [
      "53.68715405958723\n",
      "0.05983920788637114\n",
      "0.03911990143646366\n",
      "0.00586313184717955\n"
     ]
    }
   ],
   "source": [
    "print(intercept)\n",
    "print(b_1_tilda)\n",
    "print(b_1)\n",
    "print(b_2)"
   ]
  },
  {
   "cell_type": "code",
   "execution_count": 115,
   "id": "19ad7d23-8c2b-4f3d-be59-e0b9b048f8be",
   "metadata": {},
   "outputs": [
    {
     "data": {
      "text/plain": [
       "0.05983920788637103"
      ]
     },
     "execution_count": 115,
     "metadata": {},
     "output_type": "execute_result"
    }
   ],
   "source": [
    "z = b_1 + b_2*delta1_tilda\n",
    "z"
   ]
  },
  {
   "cell_type": "code",
   "execution_count": 116,
   "id": "125de508-7ec9-45bd-9457-8b1145084c46",
   "metadata": {},
   "outputs": [
    {
     "name": "stdout",
     "output_type": "stream",
     "text": [
      "0.05983920788637103\n",
      "0.05983920788637114\n"
     ]
    }
   ],
   "source": [
    "print(z)\n",
    "print(b_1_tilda)"
   ]
  },
  {
   "cell_type": "code",
   "execution_count": null,
   "id": "a5266bae-5723-4d7d-84da-778cedb61301",
   "metadata": {},
   "outputs": [],
   "source": []
  },
  {
   "cell_type": "markdown",
   "id": "33f19f74-5c3b-4e2e-8acb-f34dcf8344ac",
   "metadata": {},
   "source": [
    "## 4a"
   ]
  },
  {
   "cell_type": "code",
   "execution_count": 118,
   "id": "aabcb35d-4955-4f06-839d-d90f691b812d",
   "metadata": {},
   "outputs": [
    {
     "data": {
      "text/html": [
       "<div>\n",
       "<style scoped>\n",
       "    .dataframe tbody tr th:only-of-type {\n",
       "        vertical-align: middle;\n",
       "    }\n",
       "\n",
       "    .dataframe tbody tr th {\n",
       "        vertical-align: top;\n",
       "    }\n",
       "\n",
       "    .dataframe thead th {\n",
       "        text-align: right;\n",
       "    }\n",
       "</style>\n",
       "<table border=\"1\" class=\"dataframe\">\n",
       "  <thead>\n",
       "    <tr style=\"text-align: right;\">\n",
       "      <th></th>\n",
       "      <th>wage</th>\n",
       "      <th>abil</th>\n",
       "      <th>educ</th>\n",
       "      <th>ne</th>\n",
       "      <th>nc</th>\n",
       "      <th>west</th>\n",
       "      <th>south</th>\n",
       "      <th>exper</th>\n",
       "      <th>motheduc</th>\n",
       "      <th>fatheduc</th>\n",
       "      <th>...</th>\n",
       "      <th>ne18</th>\n",
       "      <th>nc18</th>\n",
       "      <th>south18</th>\n",
       "      <th>west18</th>\n",
       "      <th>urban18</th>\n",
       "      <th>tuit17</th>\n",
       "      <th>tuit18</th>\n",
       "      <th>lwage</th>\n",
       "      <th>expersq</th>\n",
       "      <th>ctuit</th>\n",
       "    </tr>\n",
       "  </thead>\n",
       "  <tbody>\n",
       "    <tr>\n",
       "      <th>0</th>\n",
       "      <td>12.019230</td>\n",
       "      <td>5.027738</td>\n",
       "      <td>15</td>\n",
       "      <td>0</td>\n",
       "      <td>0</td>\n",
       "      <td>1</td>\n",
       "      <td>0</td>\n",
       "      <td>9</td>\n",
       "      <td>12</td>\n",
       "      <td>12</td>\n",
       "      <td>...</td>\n",
       "      <td>1</td>\n",
       "      <td>0</td>\n",
       "      <td>0</td>\n",
       "      <td>0</td>\n",
       "      <td>1</td>\n",
       "      <td>7.582914</td>\n",
       "      <td>7.260242</td>\n",
       "      <td>2.486508</td>\n",
       "      <td>81</td>\n",
       "      <td>-0.322671</td>\n",
       "    </tr>\n",
       "    <tr>\n",
       "      <th>1</th>\n",
       "      <td>8.912656</td>\n",
       "      <td>2.037170</td>\n",
       "      <td>13</td>\n",
       "      <td>1</td>\n",
       "      <td>0</td>\n",
       "      <td>0</td>\n",
       "      <td>0</td>\n",
       "      <td>8</td>\n",
       "      <td>12</td>\n",
       "      <td>10</td>\n",
       "      <td>...</td>\n",
       "      <td>1</td>\n",
       "      <td>0</td>\n",
       "      <td>0</td>\n",
       "      <td>0</td>\n",
       "      <td>1</td>\n",
       "      <td>8.595144</td>\n",
       "      <td>9.499537</td>\n",
       "      <td>2.187472</td>\n",
       "      <td>64</td>\n",
       "      <td>0.904392</td>\n",
       "    </tr>\n",
       "    <tr>\n",
       "      <th>2</th>\n",
       "      <td>15.514330</td>\n",
       "      <td>2.475895</td>\n",
       "      <td>15</td>\n",
       "      <td>1</td>\n",
       "      <td>0</td>\n",
       "      <td>0</td>\n",
       "      <td>0</td>\n",
       "      <td>11</td>\n",
       "      <td>12</td>\n",
       "      <td>16</td>\n",
       "      <td>...</td>\n",
       "      <td>1</td>\n",
       "      <td>0</td>\n",
       "      <td>0</td>\n",
       "      <td>0</td>\n",
       "      <td>1</td>\n",
       "      <td>7.311346</td>\n",
       "      <td>7.311346</td>\n",
       "      <td>2.741764</td>\n",
       "      <td>121</td>\n",
       "      <td>0.000000</td>\n",
       "    </tr>\n",
       "    <tr>\n",
       "      <th>3</th>\n",
       "      <td>13.333330</td>\n",
       "      <td>3.609240</td>\n",
       "      <td>15</td>\n",
       "      <td>1</td>\n",
       "      <td>0</td>\n",
       "      <td>0</td>\n",
       "      <td>0</td>\n",
       "      <td>6</td>\n",
       "      <td>12</td>\n",
       "      <td>12</td>\n",
       "      <td>...</td>\n",
       "      <td>1</td>\n",
       "      <td>0</td>\n",
       "      <td>0</td>\n",
       "      <td>0</td>\n",
       "      <td>1</td>\n",
       "      <td>9.499537</td>\n",
       "      <td>10.162070</td>\n",
       "      <td>2.590267</td>\n",
       "      <td>36</td>\n",
       "      <td>0.662534</td>\n",
       "    </tr>\n",
       "    <tr>\n",
       "      <th>4</th>\n",
       "      <td>11.070110</td>\n",
       "      <td>2.636546</td>\n",
       "      <td>13</td>\n",
       "      <td>1</td>\n",
       "      <td>0</td>\n",
       "      <td>0</td>\n",
       "      <td>0</td>\n",
       "      <td>15</td>\n",
       "      <td>12</td>\n",
       "      <td>15</td>\n",
       "      <td>...</td>\n",
       "      <td>1</td>\n",
       "      <td>0</td>\n",
       "      <td>0</td>\n",
       "      <td>0</td>\n",
       "      <td>1</td>\n",
       "      <td>7.311346</td>\n",
       "      <td>7.311346</td>\n",
       "      <td>2.404249</td>\n",
       "      <td>225</td>\n",
       "      <td>0.000000</td>\n",
       "    </tr>\n",
       "  </tbody>\n",
       "</table>\n",
       "<p>5 rows × 23 columns</p>\n",
       "</div>"
      ],
      "text/plain": [
       "        wage      abil  educ  ne  nc  west  south  exper  motheduc  fatheduc  \\\n",
       "0  12.019230  5.027738    15   0   0     1      0      9        12        12   \n",
       "1   8.912656  2.037170    13   1   0     0      0      8        12        10   \n",
       "2  15.514330  2.475895    15   1   0     0      0     11        12        16   \n",
       "3  13.333330  3.609240    15   1   0     0      0      6        12        12   \n",
       "4  11.070110  2.636546    13   1   0     0      0     15        12        15   \n",
       "\n",
       "   ...  ne18  nc18  south18  west18  urban18    tuit17     tuit18     lwage  \\\n",
       "0  ...     1     0        0       0        1  7.582914   7.260242  2.486508   \n",
       "1  ...     1     0        0       0        1  8.595144   9.499537  2.187472   \n",
       "2  ...     1     0        0       0        1  7.311346   7.311346  2.741764   \n",
       "3  ...     1     0        0       0        1  9.499537  10.162070  2.590267   \n",
       "4  ...     1     0        0       0        1  7.311346   7.311346  2.404249   \n",
       "\n",
       "   expersq     ctuit  \n",
       "0       81 -0.322671  \n",
       "1       64  0.904392  \n",
       "2      121  0.000000  \n",
       "3       36  0.662534  \n",
       "4      225  0.000000  \n",
       "\n",
       "[5 rows x 23 columns]"
      ]
     },
     "execution_count": 118,
     "metadata": {},
     "output_type": "execute_result"
    }
   ],
   "source": [
    "## ?Importing Data\n",
    "\n",
    "df = pd.read_csv(\"htv.csv\")\n",
    "df.head()"
   ]
  },
  {
   "cell_type": "code",
   "execution_count": 124,
   "id": "4aa92114-2268-461e-aace-d2d1437235f1",
   "metadata": {},
   "outputs": [
    {
     "data": {
      "text/html": [
       "<table class=\"simpletable\">\n",
       "<caption>OLS Regression Results</caption>\n",
       "<tr>\n",
       "  <th>Dep. Variable:</th>            <td>y</td>        <th>  R-squared:         </th> <td>   0.444</td> \n",
       "</tr>\n",
       "<tr>\n",
       "  <th>Model:</th>                   <td>OLS</td>       <th>  Adj. R-squared:    </th> <td>   0.443</td> \n",
       "</tr>\n",
       "<tr>\n",
       "  <th>Method:</th>             <td>Least Squares</td>  <th>  F-statistic:       </th> <td>   244.9</td> \n",
       "</tr>\n",
       "<tr>\n",
       "  <th>Date:</th>             <td>Fri, 08 Mar 2024</td> <th>  Prob (F-statistic):</th> <td>1.34e-154</td>\n",
       "</tr>\n",
       "<tr>\n",
       "  <th>Time:</th>                 <td>17:39:03</td>     <th>  Log-Likelihood:    </th> <td> -2436.6</td> \n",
       "</tr>\n",
       "<tr>\n",
       "  <th>No. Observations:</th>      <td>  1230</td>      <th>  AIC:               </th> <td>   4883.</td> \n",
       "</tr>\n",
       "<tr>\n",
       "  <th>Df Residuals:</th>          <td>  1225</td>      <th>  BIC:               </th> <td>   4909.</td> \n",
       "</tr>\n",
       "<tr>\n",
       "  <th>Df Model:</th>              <td>     4</td>      <th>                     </th>     <td> </td>    \n",
       "</tr>\n",
       "<tr>\n",
       "  <th>Covariance Type:</th>      <td>nonrobust</td>    <th>                     </th>     <td> </td>    \n",
       "</tr>\n",
       "</table>\n",
       "<table class=\"simpletable\">\n",
       "<tr>\n",
       "    <td></td>       <th>coef</th>     <th>std err</th>      <th>t</th>      <th>P>|t|</th>  <th>[0.025</th>    <th>0.975]</th>  \n",
       "</tr>\n",
       "<tr>\n",
       "  <th>const</th> <td>    8.2402</td> <td>    0.287</td> <td>   28.671</td> <td> 0.000</td> <td>    7.676</td> <td>    8.804</td>\n",
       "</tr>\n",
       "<tr>\n",
       "  <th>x1</th>    <td>    0.1901</td> <td>    0.028</td> <td>    6.767</td> <td> 0.000</td> <td>    0.135</td> <td>    0.245</td>\n",
       "</tr>\n",
       "<tr>\n",
       "  <th>x2</th>    <td>    0.1089</td> <td>    0.020</td> <td>    5.558</td> <td> 0.000</td> <td>    0.070</td> <td>    0.147</td>\n",
       "</tr>\n",
       "<tr>\n",
       "  <th>x3</th>    <td>    0.4015</td> <td>    0.030</td> <td>   13.255</td> <td> 0.000</td> <td>    0.342</td> <td>    0.461</td>\n",
       "</tr>\n",
       "<tr>\n",
       "  <th>x4</th>    <td>    0.0506</td> <td>    0.008</td> <td>    6.093</td> <td> 0.000</td> <td>    0.034</td> <td>    0.067</td>\n",
       "</tr>\n",
       "</table>\n",
       "<table class=\"simpletable\">\n",
       "<tr>\n",
       "  <th>Omnibus:</th>       <td>45.933</td> <th>  Durbin-Watson:     </th> <td>   1.820</td>\n",
       "</tr>\n",
       "<tr>\n",
       "  <th>Prob(Omnibus):</th> <td> 0.000</td> <th>  Jarque-Bera (JB):  </th> <td>  56.769</td>\n",
       "</tr>\n",
       "<tr>\n",
       "  <th>Skew:</th>          <td> 0.404</td> <th>  Prob(JB):          </th> <td>4.71e-13</td>\n",
       "</tr>\n",
       "<tr>\n",
       "  <th>Kurtosis:</th>      <td> 3.674</td> <th>  Cond. No.          </th> <td>    115.</td>\n",
       "</tr>\n",
       "</table><br/><br/>Notes:<br/>[1] Standard Errors assume that the covariance matrix of the errors is correctly specified."
      ],
      "text/latex": [
       "\\begin{center}\n",
       "\\begin{tabular}{lclc}\n",
       "\\toprule\n",
       "\\textbf{Dep. Variable:}    &        y         & \\textbf{  R-squared:         } &     0.444   \\\\\n",
       "\\textbf{Model:}            &       OLS        & \\textbf{  Adj. R-squared:    } &     0.443   \\\\\n",
       "\\textbf{Method:}           &  Least Squares   & \\textbf{  F-statistic:       } &     244.9   \\\\\n",
       "\\textbf{Date:}             & Fri, 08 Mar 2024 & \\textbf{  Prob (F-statistic):} & 1.34e-154   \\\\\n",
       "\\textbf{Time:}             &     17:39:03     & \\textbf{  Log-Likelihood:    } &   -2436.6   \\\\\n",
       "\\textbf{No. Observations:} &        1230      & \\textbf{  AIC:               } &     4883.   \\\\\n",
       "\\textbf{Df Residuals:}     &        1225      & \\textbf{  BIC:               } &     4909.   \\\\\n",
       "\\textbf{Df Model:}         &           4      & \\textbf{                     } &             \\\\\n",
       "\\textbf{Covariance Type:}  &    nonrobust     & \\textbf{                     } &             \\\\\n",
       "\\bottomrule\n",
       "\\end{tabular}\n",
       "\\begin{tabular}{lcccccc}\n",
       "               & \\textbf{coef} & \\textbf{std err} & \\textbf{t} & \\textbf{P$> |$t$|$} & \\textbf{[0.025} & \\textbf{0.975]}  \\\\\n",
       "\\midrule\n",
       "\\textbf{const} &       8.2402  &        0.287     &    28.671  &         0.000        &        7.676    &        8.804     \\\\\n",
       "\\textbf{x1}    &       0.1901  &        0.028     &     6.767  &         0.000        &        0.135    &        0.245     \\\\\n",
       "\\textbf{x2}    &       0.1089  &        0.020     &     5.558  &         0.000        &        0.070    &        0.147     \\\\\n",
       "\\textbf{x3}    &       0.4015  &        0.030     &    13.255  &         0.000        &        0.342    &        0.461     \\\\\n",
       "\\textbf{x4}    &       0.0506  &        0.008     &     6.093  &         0.000        &        0.034    &        0.067     \\\\\n",
       "\\bottomrule\n",
       "\\end{tabular}\n",
       "\\begin{tabular}{lclc}\n",
       "\\textbf{Omnibus:}       & 45.933 & \\textbf{  Durbin-Watson:     } &    1.820  \\\\\n",
       "\\textbf{Prob(Omnibus):} &  0.000 & \\textbf{  Jarque-Bera (JB):  } &   56.769  \\\\\n",
       "\\textbf{Skew:}          &  0.404 & \\textbf{  Prob(JB):          } & 4.71e-13  \\\\\n",
       "\\textbf{Kurtosis:}      &  3.674 & \\textbf{  Cond. No.          } &     115.  \\\\\n",
       "\\bottomrule\n",
       "\\end{tabular}\n",
       "%\\caption{OLS Regression Results}\n",
       "\\end{center}\n",
       "\n",
       "Notes: \\newline\n",
       " [1] Standard Errors assume that the covariance matrix of the errors is correctly specified."
      ],
      "text/plain": [
       "<class 'statsmodels.iolib.summary.Summary'>\n",
       "\"\"\"\n",
       "                            OLS Regression Results                            \n",
       "==============================================================================\n",
       "Dep. Variable:                      y   R-squared:                       0.444\n",
       "Model:                            OLS   Adj. R-squared:                  0.443\n",
       "Method:                 Least Squares   F-statistic:                     244.9\n",
       "Date:                Fri, 08 Mar 2024   Prob (F-statistic):          1.34e-154\n",
       "Time:                        17:39:03   Log-Likelihood:                -2436.6\n",
       "No. Observations:                1230   AIC:                             4883.\n",
       "Df Residuals:                    1225   BIC:                             4909.\n",
       "Df Model:                           4                                         \n",
       "Covariance Type:            nonrobust                                         \n",
       "==============================================================================\n",
       "                 coef    std err          t      P>|t|      [0.025      0.975]\n",
       "------------------------------------------------------------------------------\n",
       "const          8.2402      0.287     28.671      0.000       7.676       8.804\n",
       "x1             0.1901      0.028      6.767      0.000       0.135       0.245\n",
       "x2             0.1089      0.020      5.558      0.000       0.070       0.147\n",
       "x3             0.4015      0.030     13.255      0.000       0.342       0.461\n",
       "x4             0.0506      0.008      6.093      0.000       0.034       0.067\n",
       "==============================================================================\n",
       "Omnibus:                       45.933   Durbin-Watson:                   1.820\n",
       "Prob(Omnibus):                  0.000   Jarque-Bera (JB):               56.769\n",
       "Skew:                           0.404   Prob(JB):                     4.71e-13\n",
       "Kurtosis:                       3.674   Cond. No.                         115.\n",
       "==============================================================================\n",
       "\n",
       "Notes:\n",
       "[1] Standard Errors assume that the covariance matrix of the errors is correctly specified.\n",
       "\"\"\""
      ]
     },
     "execution_count": 124,
     "metadata": {},
     "output_type": "execute_result"
    }
   ],
   "source": [
    "#  𝑒𝑑𝑢𝑐 = 𝛽0 + 𝛽1𝑚𝑜𝑡ℎ𝑒𝑑𝑢𝑐 + 𝛽2𝑓𝑎𝑡ℎ𝑒𝑑𝑢𝑐 + 𝛽3𝑎𝑏𝑖𝑙 + 𝛽4𝑎𝑏𝑖𝑙2 + 𝑢\n",
    "\n",
    "y = np.array(df['educ'])\n",
    "df['abil_2'] = df['abil']**2\n",
    "x = np.array(df[['motheduc','fatheduc', 'abil', 'abil_2']])\n",
    "model = sm.OLS(y, sm.add_constant(x)).fit()\n",
    "model.summary()"
   ]
  },
  {
   "cell_type": "code",
   "execution_count": 127,
   "id": "eb01d47c-21bd-480a-bd81-08ab49f41cee",
   "metadata": {},
   "outputs": [
    {
     "name": "stdout",
     "output_type": "stream",
     "text": [
      "                            OLS Regression Results                            \n",
      "==============================================================================\n",
      "Dep. Variable:                      y   R-squared:                       0.444\n",
      "Model:                            OLS   Adj. R-squared:                  0.443\n",
      "Method:                 Least Squares   F-statistic:                     244.9\n",
      "Date:                Fri, 08 Mar 2024   Prob (F-statistic):          1.34e-154\n",
      "Time:                        17:41:20   Log-Likelihood:                -2436.6\n",
      "No. Observations:                1230   AIC:                             4883.\n",
      "Df Residuals:                    1225   BIC:                             4909.\n",
      "Df Model:                           4                                         \n",
      "Covariance Type:            nonrobust                                         \n",
      "==============================================================================\n",
      "                 coef    std err          t      P>|t|      [0.025      0.975]\n",
      "------------------------------------------------------------------------------\n",
      "const          8.2402      0.287     28.671      0.000       7.676       8.804\n",
      "x1             0.1901      0.028      6.767      0.000       0.135       0.245\n",
      "x2             0.1089      0.020      5.558      0.000       0.070       0.147\n",
      "x3             0.4015      0.030     13.255      0.000       0.342       0.461\n",
      "x4             0.0506      0.008      6.093      0.000       0.034       0.067\n",
      "==============================================================================\n",
      "Omnibus:                       45.933   Durbin-Watson:                   1.820\n",
      "Prob(Omnibus):                  0.000   Jarque-Bera (JB):               56.769\n",
      "Skew:                           0.404   Prob(JB):                     4.71e-13\n",
      "Kurtosis:                       3.674   Cond. No.                         115.\n",
      "==============================================================================\n",
      "\n",
      "Notes:\n",
      "[1] Standard Errors assume that the covariance matrix of the errors is correctly specified.\n",
      "3785.2425697945528\n"
     ]
    }
   ],
   "source": [
    "print(model.summary())\n",
    "resid_ur = model.resid\n",
    "ssr_ur = ((model.resid - model.resid.mean())**2).sum()\n",
    "print(ssr_ur)\n"
   ]
  },
  {
   "cell_type": "markdown",
   "id": "37ad769f-692d-4266-aeaf-76e5bace1245",
   "metadata": {},
   "source": [
    "## 4b"
   ]
  },
  {
   "cell_type": "raw",
   "id": "581aa31d-15c6-4c70-a6a7-bc468a31d41e",
   "metadata": {},
   "source": [
    "## p-value of the test\n",
    "## Since the coefficient of the X4 is small,(0.0506), we fail to nreject the null hypothesis"
   ]
  },
  {
   "cell_type": "code",
   "execution_count": 130,
   "id": "23461b36-954a-42b7-a01b-0b77afff739e",
   "metadata": {},
   "outputs": [
    {
     "data": {
      "text/html": [
       "<table class=\"simpletable\">\n",
       "<caption>OLS Regression Results</caption>\n",
       "<tr>\n",
       "  <th>Dep. Variable:</th>            <td>y</td>        <th>  R-squared:         </th> <td>   0.445</td> \n",
       "</tr>\n",
       "<tr>\n",
       "  <th>Model:</th>                   <td>OLS</td>       <th>  Adj. R-squared:    </th> <td>   0.442</td> \n",
       "</tr>\n",
       "<tr>\n",
       "  <th>Method:</th>             <td>Least Squares</td>  <th>  F-statistic:       </th> <td>   163.5</td> \n",
       "</tr>\n",
       "<tr>\n",
       "  <th>Date:</th>             <td>Fri, 08 Mar 2024</td> <th>  Prob (F-statistic):</th> <td>1.43e-152</td>\n",
       "</tr>\n",
       "<tr>\n",
       "  <th>Time:</th>                 <td>17:54:22</td>     <th>  Log-Likelihood:    </th> <td> -2435.8</td> \n",
       "</tr>\n",
       "<tr>\n",
       "  <th>No. Observations:</th>      <td>  1230</td>      <th>  AIC:               </th> <td>   4886.</td> \n",
       "</tr>\n",
       "<tr>\n",
       "  <th>Df Residuals:</th>          <td>  1223</td>      <th>  BIC:               </th> <td>   4921.</td> \n",
       "</tr>\n",
       "<tr>\n",
       "  <th>Df Model:</th>              <td>     6</td>      <th>                     </th>     <td> </td>    \n",
       "</tr>\n",
       "<tr>\n",
       "  <th>Covariance Type:</th>      <td>nonrobust</td>    <th>                     </th>     <td> </td>    \n",
       "</tr>\n",
       "</table>\n",
       "<table class=\"simpletable\">\n",
       "<tr>\n",
       "    <td></td>       <th>coef</th>     <th>std err</th>      <th>t</th>      <th>P>|t|</th>  <th>[0.025</th>    <th>0.975]</th>  \n",
       "</tr>\n",
       "<tr>\n",
       "  <th>const</th> <td>    8.0819</td> <td>    0.313</td> <td>   25.840</td> <td> 0.000</td> <td>    7.468</td> <td>    8.695</td>\n",
       "</tr>\n",
       "<tr>\n",
       "  <th>x1</th>    <td>    0.1929</td> <td>    0.028</td> <td>    6.845</td> <td> 0.000</td> <td>    0.138</td> <td>    0.248</td>\n",
       "</tr>\n",
       "<tr>\n",
       "  <th>x2</th>    <td>    0.1084</td> <td>    0.020</td> <td>    5.528</td> <td> 0.000</td> <td>    0.070</td> <td>    0.147</td>\n",
       "</tr>\n",
       "<tr>\n",
       "  <th>x3</th>    <td>    0.3990</td> <td>    0.030</td> <td>   13.148</td> <td> 0.000</td> <td>    0.340</td> <td>    0.459</td>\n",
       "</tr>\n",
       "<tr>\n",
       "  <th>x4</th>    <td>    0.0506</td> <td>    0.008</td> <td>    6.082</td> <td> 0.000</td> <td>    0.034</td> <td>    0.067</td>\n",
       "</tr>\n",
       "<tr>\n",
       "  <th>x5</th>    <td>    0.0158</td> <td>    0.063</td> <td>    0.252</td> <td> 0.801</td> <td>   -0.107</td> <td>    0.138</td>\n",
       "</tr>\n",
       "<tr>\n",
       "  <th>x6</th>    <td> 6.027e-05</td> <td>    0.064</td> <td>    0.001</td> <td> 0.999</td> <td>   -0.125</td> <td>    0.125</td>\n",
       "</tr>\n",
       "</table>\n",
       "<table class=\"simpletable\">\n",
       "<tr>\n",
       "  <th>Omnibus:</th>       <td>45.849</td> <th>  Durbin-Watson:     </th> <td>   1.825</td>\n",
       "</tr>\n",
       "<tr>\n",
       "  <th>Prob(Omnibus):</th> <td> 0.000</td> <th>  Jarque-Bera (JB):  </th> <td>  56.347</td>\n",
       "</tr>\n",
       "<tr>\n",
       "  <th>Skew:</th>          <td> 0.406</td> <th>  Prob(JB):          </th> <td>5.81e-13</td>\n",
       "</tr>\n",
       "<tr>\n",
       "  <th>Kurtosis:</th>      <td> 3.663</td> <th>  Cond. No.          </th> <td>    146.</td>\n",
       "</tr>\n",
       "</table><br/><br/>Notes:<br/>[1] Standard Errors assume that the covariance matrix of the errors is correctly specified."
      ],
      "text/latex": [
       "\\begin{center}\n",
       "\\begin{tabular}{lclc}\n",
       "\\toprule\n",
       "\\textbf{Dep. Variable:}    &        y         & \\textbf{  R-squared:         } &     0.445   \\\\\n",
       "\\textbf{Model:}            &       OLS        & \\textbf{  Adj. R-squared:    } &     0.442   \\\\\n",
       "\\textbf{Method:}           &  Least Squares   & \\textbf{  F-statistic:       } &     163.5   \\\\\n",
       "\\textbf{Date:}             & Fri, 08 Mar 2024 & \\textbf{  Prob (F-statistic):} & 1.43e-152   \\\\\n",
       "\\textbf{Time:}             &     17:54:22     & \\textbf{  Log-Likelihood:    } &   -2435.8   \\\\\n",
       "\\textbf{No. Observations:} &        1230      & \\textbf{  AIC:               } &     4886.   \\\\\n",
       "\\textbf{Df Residuals:}     &        1223      & \\textbf{  BIC:               } &     4921.   \\\\\n",
       "\\textbf{Df Model:}         &           6      & \\textbf{                     } &             \\\\\n",
       "\\textbf{Covariance Type:}  &    nonrobust     & \\textbf{                     } &             \\\\\n",
       "\\bottomrule\n",
       "\\end{tabular}\n",
       "\\begin{tabular}{lcccccc}\n",
       "               & \\textbf{coef} & \\textbf{std err} & \\textbf{t} & \\textbf{P$> |$t$|$} & \\textbf{[0.025} & \\textbf{0.975]}  \\\\\n",
       "\\midrule\n",
       "\\textbf{const} &       8.0819  &        0.313     &    25.840  &         0.000        &        7.468    &        8.695     \\\\\n",
       "\\textbf{x1}    &       0.1929  &        0.028     &     6.845  &         0.000        &        0.138    &        0.248     \\\\\n",
       "\\textbf{x2}    &       0.1084  &        0.020     &     5.528  &         0.000        &        0.070    &        0.147     \\\\\n",
       "\\textbf{x3}    &       0.3990  &        0.030     &    13.148  &         0.000        &        0.340    &        0.459     \\\\\n",
       "\\textbf{x4}    &       0.0506  &        0.008     &     6.082  &         0.000        &        0.034    &        0.067     \\\\\n",
       "\\textbf{x5}    &       0.0158  &        0.063     &     0.252  &         0.801        &       -0.107    &        0.138     \\\\\n",
       "\\textbf{x6}    &    6.027e-05  &        0.064     &     0.001  &         0.999        &       -0.125    &        0.125     \\\\\n",
       "\\bottomrule\n",
       "\\end{tabular}\n",
       "\\begin{tabular}{lclc}\n",
       "\\textbf{Omnibus:}       & 45.849 & \\textbf{  Durbin-Watson:     } &    1.825  \\\\\n",
       "\\textbf{Prob(Omnibus):} &  0.000 & \\textbf{  Jarque-Bera (JB):  } &   56.347  \\\\\n",
       "\\textbf{Skew:}          &  0.406 & \\textbf{  Prob(JB):          } & 5.81e-13  \\\\\n",
       "\\textbf{Kurtosis:}      &  3.663 & \\textbf{  Cond. No.          } &     146.  \\\\\n",
       "\\bottomrule\n",
       "\\end{tabular}\n",
       "%\\caption{OLS Regression Results}\n",
       "\\end{center}\n",
       "\n",
       "Notes: \\newline\n",
       " [1] Standard Errors assume that the covariance matrix of the errors is correctly specified."
      ],
      "text/plain": [
       "<class 'statsmodels.iolib.summary.Summary'>\n",
       "\"\"\"\n",
       "                            OLS Regression Results                            \n",
       "==============================================================================\n",
       "Dep. Variable:                      y   R-squared:                       0.445\n",
       "Model:                            OLS   Adj. R-squared:                  0.442\n",
       "Method:                 Least Squares   F-statistic:                     163.5\n",
       "Date:                Fri, 08 Mar 2024   Prob (F-statistic):          1.43e-152\n",
       "Time:                        17:54:22   Log-Likelihood:                -2435.8\n",
       "No. Observations:                1230   AIC:                             4886.\n",
       "Df Residuals:                    1223   BIC:                             4921.\n",
       "Df Model:                           6                                         \n",
       "Covariance Type:            nonrobust                                         \n",
       "==============================================================================\n",
       "                 coef    std err          t      P>|t|      [0.025      0.975]\n",
       "------------------------------------------------------------------------------\n",
       "const          8.0819      0.313     25.840      0.000       7.468       8.695\n",
       "x1             0.1929      0.028      6.845      0.000       0.138       0.248\n",
       "x2             0.1084      0.020      5.528      0.000       0.070       0.147\n",
       "x3             0.3990      0.030     13.148      0.000       0.340       0.459\n",
       "x4             0.0506      0.008      6.082      0.000       0.034       0.067\n",
       "x5             0.0158      0.063      0.252      0.801      -0.107       0.138\n",
       "x6          6.027e-05      0.064      0.001      0.999      -0.125       0.125\n",
       "==============================================================================\n",
       "Omnibus:                       45.849   Durbin-Watson:                   1.825\n",
       "Prob(Omnibus):                  0.000   Jarque-Bera (JB):               56.347\n",
       "Skew:                           0.406   Prob(JB):                     5.81e-13\n",
       "Kurtosis:                       3.663   Cond. No.                         146.\n",
       "==============================================================================\n",
       "\n",
       "Notes:\n",
       "[1] Standard Errors assume that the covariance matrix of the errors is correctly specified.\n",
       "\"\"\""
      ]
     },
     "execution_count": 130,
     "metadata": {},
     "output_type": "execute_result"
    }
   ],
   "source": [
    "x = np.array(df[['motheduc','fatheduc', 'abil', 'abil_2','tuit17','tuit18']])\n",
    "model = sm.OLS(y, sm.add_constant(x)).fit()\n",
    "model.summary()"
   ]
  },
  {
   "cell_type": "code",
   "execution_count": null,
   "id": "a2a5390e-d069-4c5a-9ef3-32a040ad1430",
   "metadata": {},
   "outputs": [],
   "source": []
  },
  {
   "cell_type": "code",
   "execution_count": 132,
   "id": "1295fccb-9ec2-4942-9843-44a9347f7c83",
   "metadata": {},
   "outputs": [
    {
     "name": "stdout",
     "output_type": "stream",
     "text": [
      "                            OLS Regression Results                            \n",
      "==============================================================================\n",
      "Dep. Variable:                   educ   R-squared:                       0.443\n",
      "Model:                            OLS   Adj. R-squared:                  0.441\n",
      "Method:                 Least Squares   F-statistic:                     324.6\n",
      "Date:                Fri, 08 Mar 2024   Prob (F-statistic):          4.43e-155\n",
      "Time:                        18:19:04   Log-Likelihood:                -2438.5\n",
      "No. Observations:                1230   AIC:                             4885.\n",
      "Df Residuals:                    1226   BIC:                             4905.\n",
      "Df Model:                           3                                         \n",
      "Covariance Type:            nonrobust                                         \n",
      "==============================================================================\n",
      "                 coef    std err          t      P>|t|      [0.025      0.975]\n",
      "------------------------------------------------------------------------------\n",
      "const          8.4566      0.265     31.902      0.000       7.937       8.977\n",
      "mf             0.1402      0.011     12.592      0.000       0.118       0.162\n",
      "abil           0.4040      0.030     13.335      0.000       0.345       0.463\n",
      "abil_2         0.0504      0.008      6.063      0.000       0.034       0.067\n",
      "==============================================================================\n",
      "Omnibus:                       46.684   Durbin-Watson:                   1.822\n",
      "Prob(Omnibus):                  0.000   Jarque-Bera (JB):               58.292\n",
      "Skew:                           0.405   Prob(JB):                     2.20e-13\n",
      "Kurtosis:                       3.694   Cond. No.                         141.\n",
      "==============================================================================\n",
      "\n",
      "Notes:\n",
      "[1] Standard Errors assume that the covariance matrix of the errors is correctly specified.\n",
      "3796.8200511425694\n"
     ]
    }
   ],
   "source": [
    "df['mf'] = df['motheduc'] + df['fatheduc']\n",
    "y = df['educ']\n",
    "x = df[['mf','abil','abil_2']]\n",
    "ols = sm.OLS(y,sm.add_constant(x)).fit()\n",
    "print(ols.summary())\n",
    "resid_r = ols.resid\n",
    "ssr_r = ((ols.resid - ols.resid.mean())**2).sum()\n",
    "print(ssr_r)\n"
   ]
  },
  {
   "cell_type": "code",
   "execution_count": 133,
   "id": "77a3c38a-40bf-4e20-8c6b-88d5f550cc1b",
   "metadata": {},
   "outputs": [
    {
     "name": "stdout",
     "output_type": "stream",
     "text": [
      "3.746765072466699\n"
     ]
    }
   ],
   "source": [
    "F_stat = (ssr_r -ssr_ur)/(ssr_ur/(1230-5))\n",
    "print(F_stat)"
   ]
  },
  {
   "cell_type": "markdown",
   "id": "ad9150f5-a2c8-40b9-9f4d-6518c7c3fe1d",
   "metadata": {},
   "source": [
    "## 4C"
   ]
  },
  {
   "cell_type": "code",
   "execution_count": 134,
   "id": "4f80618d-4576-4d8b-852a-75d1f4da934c",
   "metadata": {},
   "outputs": [
    {
     "name": "stdout",
     "output_type": "stream",
     "text": [
      "                            OLS Regression Results                            \n",
      "==============================================================================\n",
      "Dep. Variable:                   educ   R-squared:                       0.445\n",
      "Model:                            OLS   Adj. R-squared:                  0.442\n",
      "Method:                 Least Squares   F-statistic:                     163.5\n",
      "Date:                Fri, 08 Mar 2024   Prob (F-statistic):          1.43e-152\n",
      "Time:                        18:22:41   Log-Likelihood:                -2435.8\n",
      "No. Observations:                1230   AIC:                             4886.\n",
      "Df Residuals:                    1223   BIC:                             4921.\n",
      "Df Model:                           6                                         \n",
      "Covariance Type:            nonrobust                                         \n",
      "==============================================================================\n",
      "                 coef    std err          t      P>|t|      [0.025      0.975]\n",
      "------------------------------------------------------------------------------\n",
      "const          8.0819      0.313     25.840      0.000       7.468       8.695\n",
      "motheduc       0.1929      0.028      6.845      0.000       0.138       0.248\n",
      "fatheduc       0.1084      0.020      5.528      0.000       0.070       0.147\n",
      "abil           0.3990      0.030     13.148      0.000       0.340       0.459\n",
      "abil_2         0.0506      0.008      6.082      0.000       0.034       0.067\n",
      "tuit17         0.0158      0.063      0.252      0.801      -0.107       0.138\n",
      "tuit18      6.027e-05      0.064      0.001      0.999      -0.125       0.125\n",
      "==============================================================================\n",
      "Omnibus:                       45.849   Durbin-Watson:                   1.825\n",
      "Prob(Omnibus):                  0.000   Jarque-Bera (JB):               56.347\n",
      "Skew:                           0.406   Prob(JB):                     5.81e-13\n",
      "Kurtosis:                       3.663   Cond. No.                         146.\n",
      "==============================================================================\n",
      "\n",
      "Notes:\n",
      "[1] Standard Errors assume that the covariance matrix of the errors is correctly specified.\n",
      "3780.0541603864995\n"
     ]
    }
   ],
   "source": [
    "y = df['educ']\n",
    "x = df[['motheduc','fatheduc','abil','abil_2','tuit17','tuit18']]\n",
    "ols = sm.OLS(y,sm.add_constant(x)).fit()\n",
    "print(ols.summary())\n",
    "resid_ur = ols.resid\n",
    "ssr_ur = ((ols.resid - ols.resid.mean())**2).sum()\n",
    "print(ssr_ur)"
   ]
  },
  {
   "cell_type": "code",
   "execution_count": 136,
   "id": "4c45702c-fcac-4f48-b1d2-ddbeb33b9807",
   "metadata": {},
   "outputs": [
    {
     "name": "stdout",
     "output_type": "stream",
     "text": [
      "                            OLS Regression Results                            \n",
      "==============================================================================\n",
      "Dep. Variable:                   educ   R-squared:                       0.444\n",
      "Model:                            OLS   Adj. R-squared:                  0.443\n",
      "Method:                 Least Squares   F-statistic:                     244.9\n",
      "Date:                Fri, 08 Mar 2024   Prob (F-statistic):          1.34e-154\n",
      "Time:                        18:24:27   Log-Likelihood:                -2436.6\n",
      "No. Observations:                1230   AIC:                             4883.\n",
      "Df Residuals:                    1225   BIC:                             4909.\n",
      "Df Model:                           4                                         \n",
      "Covariance Type:            nonrobust                                         \n",
      "==============================================================================\n",
      "                 coef    std err          t      P>|t|      [0.025      0.975]\n",
      "------------------------------------------------------------------------------\n",
      "const          8.2402      0.287     28.671      0.000       7.676       8.804\n",
      "motheduc       0.1901      0.028      6.767      0.000       0.135       0.245\n",
      "fatheduc       0.1089      0.020      5.558      0.000       0.070       0.147\n",
      "abil           0.4015      0.030     13.255      0.000       0.342       0.461\n",
      "abil_2         0.0506      0.008      6.093      0.000       0.034       0.067\n",
      "==============================================================================\n",
      "Omnibus:                       45.933   Durbin-Watson:                   1.820\n",
      "Prob(Omnibus):                  0.000   Jarque-Bera (JB):               56.769\n",
      "Skew:                           0.404   Prob(JB):                     4.71e-13\n",
      "Kurtosis:                       3.674   Cond. No.                         115.\n",
      "==============================================================================\n",
      "\n",
      "Notes:\n",
      "[1] Standard Errors assume that the covariance matrix of the errors is correctly specified.\n",
      "3785.2425697945528\n"
     ]
    }
   ],
   "source": [
    "# \n",
    "\n",
    "y = df['educ']\n",
    "df['tuit'] = df['tuit17'] + df['tuit18']\n",
    "x = df[['motheduc','fatheduc','abil','abil_2']]\n",
    "ols = sm.OLS(y,sm.add_constant(x)).fit()\n",
    "print(ols.summary())\n",
    "resid_r = ols.resid\n",
    "ssr_r = ((ols.resid - ols.resid.mean())**2).sum()\n",
    "print(ssr_r)"
   ]
  },
  {
   "cell_type": "code",
   "execution_count": 137,
   "id": "e6b2ab74-abd7-47ce-851e-bd6d66acdcfd",
   "metadata": {},
   "outputs": [
    {
     "name": "stdout",
     "output_type": "stream",
     "text": [
      "0.8393298662948773\n"
     ]
    }
   ],
   "source": [
    "F_stat = ((ssr_r -ssr_ur)/2)/(ssr_ur/(1230-7))\n",
    "print(F_stat)"
   ]
  },
  {
   "cell_type": "raw",
   "id": "40099967-8aba-4be9-8dec-a4adeb289c11",
   "metadata": {},
   "source": [
    "## Not jointly significant."
   ]
  },
  {
   "cell_type": "code",
   "execution_count": 139,
   "id": "ce1313df-ec70-4873-a953-fc1a3a5401dd",
   "metadata": {},
   "outputs": [
    {
     "name": "stdout",
     "output_type": "stream",
     "text": [
      "R^2 from the OLS regression is 0.962\n",
      "correlation coefficient between tuit18 and tuit17 is 0.981\n"
     ]
    }
   ],
   "source": [
    "## \n",
    "\n",
    "y = df['tuit18']\n",
    "x = df['tuit17']\n",
    "olsrsqd = sm.OLS(y,sm.add_constant(x)).fit().rsquared\n",
    "print(f'R^2 from the OLS regression is {olsrsqd:.3f}')\n",
    "corr_coeff = np.cov(y,x)[0][1]/(y.std()*x.std())\n",
    "print(f'correlation coefficient between tuit18 and tuit17 is {corr_coeff:.3f}')"
   ]
  },
  {
   "cell_type": "code",
   "execution_count": 140,
   "id": "028170d8-4300-440e-b204-027b95bbf6d0",
   "metadata": {},
   "outputs": [
    {
     "name": "stdout",
     "output_type": "stream",
     "text": [
      "                            OLS Regression Results                            \n",
      "==============================================================================\n",
      "Dep. Variable:                   educ   R-squared:                       0.445\n",
      "Model:                            OLS   Adj. R-squared:                  0.443\n",
      "Method:                 Least Squares   F-statistic:                     196.4\n",
      "Date:                Fri, 08 Mar 2024   Prob (F-statistic):          9.75e-154\n",
      "Time:                        18:27:58   Log-Likelihood:                -2435.8\n",
      "No. Observations:                1230   AIC:                             4884.\n",
      "Df Residuals:                    1224   BIC:                             4914.\n",
      "Df Model:                           5                                         \n",
      "Covariance Type:            nonrobust                                         \n",
      "==============================================================================\n",
      "                 coef    std err          t      P>|t|      [0.025      0.975]\n",
      "------------------------------------------------------------------------------\n",
      "const          8.0813      0.313     25.851      0.000       7.468       8.695\n",
      "motheduc       0.1929      0.028      6.847      0.000       0.138       0.248\n",
      "fatheduc       0.1084      0.020      5.529      0.000       0.070       0.147\n",
      "abil           0.3991      0.030     13.156      0.000       0.340       0.459\n",
      "abil_2         0.0506      0.008      6.095      0.000       0.034       0.067\n",
      "tuit           0.0080      0.006      1.290      0.197      -0.004       0.020\n",
      "==============================================================================\n",
      "Omnibus:                       45.884   Durbin-Watson:                   1.824\n",
      "Prob(Omnibus):                  0.000   Jarque-Bera (JB):               56.400\n",
      "Skew:                           0.406   Prob(JB):                     5.66e-13\n",
      "Kurtosis:                       3.664   Cond. No.                         167.\n",
      "==============================================================================\n",
      "\n",
      "Notes:\n",
      "[1] Standard Errors assume that the covariance matrix of the errors is correctly specified.\n"
     ]
    }
   ],
   "source": [
    "df['tuit'] = (df['tuit17']+df['tuit18'])/2\n",
    "y = df['educ']\n",
    "df['tuit'] = df['tuit17'] + df['tuit18']\n",
    "x = df[['motheduc','fatheduc','abil','abil_2','tuit']]\n",
    "ols = sm.OLS(y,sm.add_constant(x)).fit()\n",
    "print(ols.summary())\n"
   ]
  },
  {
   "cell_type": "raw",
   "id": "1ae68667-f6b6-4789-a36b-880eb8760243",
   "metadata": {},
   "source": [
    "## 4d\n",
    "# The coefficient of tuit is near zero with a vaue of 0.0080\n"
   ]
  },
  {
   "cell_type": "code",
   "execution_count": 143,
   "id": "90957878-efca-4f91-b397-6c993b9e85c2",
   "metadata": {},
   "outputs": [
    {
     "name": "stdout",
     "output_type": "stream",
     "text": [
      "\u001b[33mWARNING: Skipping /Users/elsarussom/anaconda3/lib/python3.11/site-packages/numpy-1.24.3.dist-info due to invalid metadata entry 'name'\u001b[0m\u001b[33m\n",
      "\u001b[0mRequirement already satisfied: pandoc in /Users/elsarussom/anaconda3/lib/python3.11/site-packages (2.3)\n",
      "Requirement already satisfied: plumbum in /Users/elsarussom/anaconda3/lib/python3.11/site-packages (from pandoc) (1.8.2)\n",
      "Requirement already satisfied: ply in /Users/elsarussom/anaconda3/lib/python3.11/site-packages (from pandoc) (3.11)\n",
      "\u001b[33mWARNING: Skipping /Users/elsarussom/anaconda3/lib/python3.11/site-packages/numpy-1.24.3.dist-info due to invalid metadata entry 'name'\u001b[0m\u001b[33m\n",
      "\u001b[0mNote: you may need to restart the kernel to use updated packages.\n"
     ]
    }
   ],
   "source": [
    "pip install pandoc"
   ]
  },
  {
   "cell_type": "code",
   "execution_count": null,
   "id": "3803bdef-aaff-4225-b0fe-a07dc49fe916",
   "metadata": {},
   "outputs": [],
   "source": []
  }
 ],
 "metadata": {
  "kernelspec": {
   "display_name": "Python 3 (ipykernel)",
   "language": "python",
   "name": "python3"
  },
  "language_info": {
   "codemirror_mode": {
    "name": "ipython",
    "version": 3
   },
   "file_extension": ".py",
   "mimetype": "text/x-python",
   "name": "python",
   "nbconvert_exporter": "python",
   "pygments_lexer": "ipython3",
   "version": "3.11.8"
  }
 },
 "nbformat": 4,
 "nbformat_minor": 5
}
