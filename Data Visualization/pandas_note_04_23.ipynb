{
  "nbformat": 4,
  "nbformat_minor": 0,
  "metadata": {
    "colab": {
      "provenance": []
    },
    "kernelspec": {
      "name": "python3",
      "display_name": "Python 3"
    },
    "language_info": {
      "name": "python"
    }
  },
  "cells": [
    {
      "cell_type": "code",
      "execution_count": 1,
      "metadata": {
        "id": "t_NKY3ipax0i"
      },
      "outputs": [],
      "source": [
        "import pandas as pd"
      ]
    },
    {
      "cell_type": "code",
      "source": [
        "data_frame = pd.read_csv('/content/Location.csv')\n",
        "\n",
        "if len(data_frame.columns) == 1:\n",
        "    data = data_frame.squeeze()\n",
        "else:\n",
        "    data = data_frame"
      ],
      "metadata": {
        "id": "1gcQVAAgbsMG"
      },
      "execution_count": 6,
      "outputs": []
    },
    {
      "cell_type": "code",
      "source": [
        "location_data = data.copy()\n",
        "location_data.head()"
      ],
      "metadata": {
        "colab": {
          "base_uri": "https://localhost:8080/"
        },
        "id": "U3rl-mIOcgMO",
        "outputId": "3d0a327b-60dd-4b79-de3e-d67b477265c1"
      },
      "execution_count": 7,
      "outputs": [
        {
          "output_type": "execute_result",
          "data": {
            "text/plain": [
              "0     Location 3\n",
              "1     Location 6\n",
              "2     Location 8\n",
              "3    Location 26\n",
              "4    Location 34\n",
              "Name: Location, dtype: object"
            ]
          },
          "metadata": {},
          "execution_count": 7
        }
      ]
    },
    {
      "cell_type": "code",
      "source": [
        "type(location_data)"
      ],
      "metadata": {
        "colab": {
          "base_uri": "https://localhost:8080/",
          "height": 203
        },
        "id": "4hkIAP_FcoAx",
        "outputId": "e3f91018-43e6-4c6d-b5cb-e37e43c69286"
      },
      "execution_count": 8,
      "outputs": [
        {
          "output_type": "execute_result",
          "data": {
            "text/plain": [
              "pandas.core.series.Series"
            ],
            "text/html": [
              "<div style=\"max-width:800px; border: 1px solid var(--colab-border-color);\"><style>\n",
              "      pre.function-repr-contents {\n",
              "        overflow-x: auto;\n",
              "        padding: 8px 12px;\n",
              "        max-height: 500px;\n",
              "      }\n",
              "\n",
              "      pre.function-repr-contents.function-repr-contents-collapsed {\n",
              "        cursor: pointer;\n",
              "        max-height: 100px;\n",
              "      }\n",
              "    </style>\n",
              "    <pre style=\"white-space: initial; background:\n",
              "         var(--colab-secondary-surface-color); padding: 8px 12px;\n",
              "         border-bottom: 1px solid var(--colab-border-color);\"><b>pandas.core.series.Series</b><br/>def __init__(data=None, index=None, dtype: Dtype | None=None, name=None, copy: bool | None=None, fastpath: bool=False) -&gt; None</pre><pre class=\"function-repr-contents function-repr-contents-collapsed\" style=\"\"><a class=\"filepath\" style=\"display:none\" href=\"#\">/usr/local/lib/python3.10/dist-packages/pandas/core/series.py</a>One-dimensional ndarray with axis labels (including time series).\n",
              "\n",
              "Labels need not be unique but must be a hashable type. The object\n",
              "supports both integer- and label-based indexing and provides a host of\n",
              "methods for performing operations involving the index. Statistical\n",
              "methods from ndarray have been overridden to automatically exclude\n",
              "missing data (currently represented as NaN).\n",
              "\n",
              "Operations between Series (+, -, /, \\*, \\*\\*) align values based on their\n",
              "associated index values-- they need not be the same length. The result\n",
              "index will be the sorted union of the two indexes.\n",
              "\n",
              "Parameters\n",
              "----------\n",
              "data : array-like, Iterable, dict, or scalar value\n",
              "    Contains data stored in Series. If data is a dict, argument order is\n",
              "    maintained.\n",
              "index : array-like or Index (1d)\n",
              "    Values must be hashable and have the same length as `data`.\n",
              "    Non-unique index values are allowed. Will default to\n",
              "    RangeIndex (0, 1, 2, ..., n) if not provided. If data is dict-like\n",
              "    and index is None, then the keys in the data are used as the index. If the\n",
              "    index is not None, the resulting Series is reindexed with the index values.\n",
              "dtype : str, numpy.dtype, or ExtensionDtype, optional\n",
              "    Data type for the output Series. If not specified, this will be\n",
              "    inferred from `data`.\n",
              "    See the :ref:`user guide &lt;basics.dtypes&gt;` for more usages.\n",
              "name : Hashable, default None\n",
              "    The name to give to the Series.\n",
              "copy : bool, default False\n",
              "    Copy input data. Only affects Series or 1d ndarray input. See examples.\n",
              "\n",
              "Notes\n",
              "-----\n",
              "Please reference the :ref:`User Guide &lt;basics.series&gt;` for more information.\n",
              "\n",
              "Examples\n",
              "--------\n",
              "Constructing Series from a dictionary with an Index specified\n",
              "\n",
              "&gt;&gt;&gt; d = {&#x27;a&#x27;: 1, &#x27;b&#x27;: 2, &#x27;c&#x27;: 3}\n",
              "&gt;&gt;&gt; ser = pd.Series(data=d, index=[&#x27;a&#x27;, &#x27;b&#x27;, &#x27;c&#x27;])\n",
              "&gt;&gt;&gt; ser\n",
              "a   1\n",
              "b   2\n",
              "c   3\n",
              "dtype: int64\n",
              "\n",
              "The keys of the dictionary match with the Index values, hence the Index\n",
              "values have no effect.\n",
              "\n",
              "&gt;&gt;&gt; d = {&#x27;a&#x27;: 1, &#x27;b&#x27;: 2, &#x27;c&#x27;: 3}\n",
              "&gt;&gt;&gt; ser = pd.Series(data=d, index=[&#x27;x&#x27;, &#x27;y&#x27;, &#x27;z&#x27;])\n",
              "&gt;&gt;&gt; ser\n",
              "x   NaN\n",
              "y   NaN\n",
              "z   NaN\n",
              "dtype: float64\n",
              "\n",
              "Note that the Index is first build with the keys from the dictionary.\n",
              "After this the Series is reindexed with the given Index values, hence we\n",
              "get all NaN as a result.\n",
              "\n",
              "Constructing Series from a list with `copy=False`.\n",
              "\n",
              "&gt;&gt;&gt; r = [1, 2]\n",
              "&gt;&gt;&gt; ser = pd.Series(r, copy=False)\n",
              "&gt;&gt;&gt; ser.iloc[0] = 999\n",
              "&gt;&gt;&gt; r\n",
              "[1, 2]\n",
              "&gt;&gt;&gt; ser\n",
              "0    999\n",
              "1      2\n",
              "dtype: int64\n",
              "\n",
              "Due to input data type the Series has a `copy` of\n",
              "the original data even though `copy=False`, so\n",
              "the data is unchanged.\n",
              "\n",
              "Constructing Series from a 1d ndarray with `copy=False`.\n",
              "\n",
              "&gt;&gt;&gt; r = np.array([1, 2])\n",
              "&gt;&gt;&gt; ser = pd.Series(r, copy=False)\n",
              "&gt;&gt;&gt; ser.iloc[0] = 999\n",
              "&gt;&gt;&gt; r\n",
              "array([999,   2])\n",
              "&gt;&gt;&gt; ser\n",
              "0    999\n",
              "1      2\n",
              "dtype: int64\n",
              "\n",
              "Due to input data type the Series has a `view` on\n",
              "the original data, so\n",
              "the data is changed as well.</pre>\n",
              "      <script>\n",
              "      if (google.colab.kernel.accessAllowed && google.colab.files && google.colab.files.view) {\n",
              "        for (const element of document.querySelectorAll('.filepath')) {\n",
              "          element.style.display = 'block'\n",
              "          element.onclick = (event) => {\n",
              "            event.preventDefault();\n",
              "            event.stopPropagation();\n",
              "            google.colab.files.view(element.textContent, 244);\n",
              "          };\n",
              "        }\n",
              "      }\n",
              "      for (const element of document.querySelectorAll('.function-repr-contents')) {\n",
              "        element.onclick = (event) => {\n",
              "          event.preventDefault();\n",
              "          event.stopPropagation();\n",
              "          element.classList.toggle('function-repr-contents-collapsed');\n",
              "        };\n",
              "      }\n",
              "      </script>\n",
              "      </div>"
            ]
          },
          "metadata": {},
          "execution_count": 8
        }
      ]
    },
    {
      "cell_type": "code",
      "source": [
        "location_data.describe(include='all')"
      ],
      "metadata": {
        "colab": {
          "base_uri": "https://localhost:8080/"
        },
        "id": "4_bIlv72dbrr",
        "outputId": "b5dcf2bc-0ce2-4e6f-eaab-1853fa36ff16"
      },
      "execution_count": 9,
      "outputs": [
        {
          "output_type": "execute_result",
          "data": {
            "text/plain": [
              "count            1043\n",
              "unique            296\n",
              "top       Location 25\n",
              "freq               31\n",
              "Name: Location, dtype: object"
            ]
          },
          "metadata": {},
          "execution_count": 9
        }
      ]
    },
    {
      "cell_type": "code",
      "source": [
        "len(location_data)"
      ],
      "metadata": {
        "colab": {
          "base_uri": "https://localhost:8080/"
        },
        "id": "5pSWjAO4dhz1",
        "outputId": "9833707e-aa0c-4e17-e1a6-66fdeb5a1dcb"
      },
      "execution_count": 10,
      "outputs": [
        {
          "output_type": "execute_result",
          "data": {
            "text/plain": [
              "1043"
            ]
          },
          "metadata": {},
          "execution_count": 10
        }
      ]
    },
    {
      "cell_type": "code",
      "source": [
        "location_data.nunique()"
      ],
      "metadata": {
        "colab": {
          "base_uri": "https://localhost:8080/"
        },
        "id": "kFuRvffvdkEY",
        "outputId": "0cd464c3-4711-467a-de8a-d00737780fb7"
      },
      "execution_count": 11,
      "outputs": [
        {
          "output_type": "execute_result",
          "data": {
            "text/plain": [
              "296"
            ]
          },
          "metadata": {},
          "execution_count": 11
        }
      ]
    },
    {
      "cell_type": "code",
      "source": [
        "type(location_data.nunique())"
      ],
      "metadata": {
        "colab": {
          "base_uri": "https://localhost:8080/"
        },
        "id": "MeSEIr2Id8PW",
        "outputId": "9158ec68-ef74-4894-e1a8-053885db72db"
      },
      "execution_count": 12,
      "outputs": [
        {
          "output_type": "execute_result",
          "data": {
            "text/plain": [
              "int"
            ]
          },
          "metadata": {},
          "execution_count": 12
        }
      ]
    },
    {
      "cell_type": "code",
      "source": [
        "location_data.unique()"
      ],
      "metadata": {
        "colab": {
          "base_uri": "https://localhost:8080/"
        },
        "id": "K5a9URykeDUB",
        "outputId": "1342bb20-6657-4b80-fa2e-eaeabe3f1987"
      },
      "execution_count": 13,
      "outputs": [
        {
          "output_type": "execute_result",
          "data": {
            "text/plain": [
              "array(['Location 3', 'Location 6', 'Location 8', 'Location 26',\n",
              "       'Location 34', 'Location 25', 'Location 46', 'Location 156',\n",
              "       'Location 21', 'Location 13', 'Location 579', 'Location 602',\n",
              "       'Location 10', 'Location 44', 'Location 30', 'Location 48',\n",
              "       'Location 196', 'Location 64', 'Location 91', 'Location 62',\n",
              "       'Location 75', 'Location 42', 'Location 233', 'Location 95',\n",
              "       'Location 78', 'Location 61', 'Location 87', 'Location 19',\n",
              "       'Location 115', 'Location 350', 'Location 377', 'Location 17',\n",
              "       'Location 113', 'Location 81', 'Location 58', 'Location 212',\n",
              "       'Location 53', 'Location 337', 'Location 41', 'Location 632',\n",
              "       'Location 73', 'Location 214', 'Location 218', 'Location 38',\n",
              "       'Location 172', 'Location 197', 'Location 101', 'Location 185',\n",
              "       'Location 129', 'Location 235', 'Location 142', 'Location 50',\n",
              "       'Location 76', 'Location 11', 'Location 33', 'Location 22',\n",
              "       'Location 145', 'Location 203', 'Location 94', 'Location 573',\n",
              "       'Location 27', 'Location 186', 'Location 4', 'Location 70',\n",
              "       'Location 45', 'Location 262', 'Location 111', 'Location 84',\n",
              "       'Location 108', 'Location 7', 'Location 74', 'Location 450',\n",
              "       'Location 47', 'Location 37', 'Location 43', 'Location 286',\n",
              "       'Location 89', 'Location 24', 'Location 97', 'Location 144',\n",
              "       'Location 40', 'Location 128', 'Location 169', 'Location 399',\n",
              "       'Location 23', 'Location 191', 'Location 178', 'Location 510',\n",
              "       'Location 600', 'Location 188', 'Location 67', 'Location 49',\n",
              "       'Location 29', 'Location 222', 'Location 386', 'Location 88',\n",
              "       'Location 104', 'Location 405', 'Location 114', 'Location 259',\n",
              "       'Location 182', 'Location 12', 'Location 228', 'Location 149',\n",
              "       'Location 90', 'Location 109', 'Location 441', 'Location 421',\n",
              "       'Location 641', 'Location 195', 'Location 20', 'Location 161',\n",
              "       'Location 117', 'Location 200', 'Location 106', 'Location 31',\n",
              "       'Location 122', 'Location 541', 'Location 495', 'Location 193',\n",
              "       'Location 39', 'Location 9', 'Location 86', 'Location 107',\n",
              "       'Location 198', 'Location 318', 'Location 135', 'Location 177',\n",
              "       'Location 32', 'Location 591', 'Location 488', 'Location 418',\n",
              "       'Location 587', 'Location 454', 'Location 543', 'Location 489',\n",
              "       'Location 60', 'Location 52', 'Location 548', 'Location 15',\n",
              "       'Location 240', 'Location 658', 'Location 209', 'Location 151',\n",
              "       'Location 192', 'Location 364', 'Location 18', 'Location 503',\n",
              "       'Location 482', 'Location 460', 'Location 71', 'Location 69',\n",
              "       'Location 258', 'Location 204', 'Location 124', 'Location 168',\n",
              "       'Location 35', 'Location 296', 'Location 136', 'Location 28',\n",
              "       'Location 153', 'Location 99', 'Location 132', 'Location 427',\n",
              "       'Location 118', 'Location 127', 'Location 159', 'Location 154',\n",
              "       'Location 175', 'Location 120', 'Location 82', 'Location 152',\n",
              "       'Location 56', 'Location 282', 'Location 566', 'Location 365',\n",
              "       'Location 353', 'Location 66', 'Location 2', 'Location 323',\n",
              "       'Location 473', 'Location 206', 'Location 57', 'Location 68',\n",
              "       'Location 166', 'Location 1', 'Location 227', 'Location 79',\n",
              "       'Location 642', 'Location 105', 'Location 644', 'Location 547',\n",
              "       'Location 637', 'Location 59', 'Location 574', 'Location 529',\n",
              "       'Location 554', 'Location 275', 'Location 589', 'Location 160',\n",
              "       'Location 410', 'Location 146', 'Location 221', 'Location 265',\n",
              "       'Location 569', 'Location 157', 'Location 648', 'Location 165',\n",
              "       'Location 651', 'Location 266', 'Location 77', 'Location 158',\n",
              "       'Location 336', 'Location 72', 'Location 463', 'Location 253',\n",
              "       'Location 5', 'Location 431', 'Location 515', 'Location 226',\n",
              "       'Location 140', 'Location 110', 'Location 202', 'Location 634',\n",
              "       'Location 138', 'Location 217', 'Location 443', 'Location 627',\n",
              "       'Location 123', 'Location 528', 'Location 357', 'Location 187',\n",
              "       'Location 315', 'Location 112', 'Location 302', 'Location 194',\n",
              "       'Location 332', 'Location 208', 'Location 179', 'Location 199',\n",
              "       'Location 201', 'Location 174', 'Location 474', 'Location 184',\n",
              "       'Location 63', 'Location 512', 'Location 403', 'Location 436',\n",
              "       'Location 210', 'Location 468', 'Location 464', 'Location 98',\n",
              "       'Location 102', 'Location 325', 'Location 267', 'Location 173',\n",
              "       'Location 617', 'Location 141', 'Location 300', 'Location 216',\n",
              "       'Location 506', 'Location 647', 'Location 402', 'Location 239',\n",
              "       'Location 54', 'Location 137', 'Location 477', 'Location 586',\n",
              "       'Location 472', 'Location 374', 'Location 458', 'Location 180',\n",
              "       'Location 653', 'Location 16', 'Location 612', 'Location 505',\n",
              "       'Location 631', 'Location 299', 'Location 65', 'Location 342',\n",
              "       'Location 155', 'Location 511', 'Location 461', 'Location 244',\n",
              "       'Location 207', 'Location 597', 'Location 352', 'Location 533',\n",
              "       'Location 384', 'Location 80', 'Location 171', 'Location 143',\n",
              "       'Location 576', 'Location 139', 'Location 125', 'Location 181'],\n",
              "      dtype=object)"
            ]
          },
          "metadata": {},
          "execution_count": 13
        }
      ]
    },
    {
      "cell_type": "code",
      "source": [],
      "metadata": {
        "id": "6ncf0IKieLu9"
      },
      "execution_count": null,
      "outputs": []
    }
  ]
}