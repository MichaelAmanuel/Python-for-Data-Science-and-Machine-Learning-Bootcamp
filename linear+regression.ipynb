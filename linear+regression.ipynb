{
  "nbformat": 4,
  "nbformat_minor": 0,
  "metadata": {
    "colab": {
      "provenance": []
    },
    "kernelspec": {
      "name": "python3",
      "display_name": "Python 3"
    },
    "language_info": {
      "name": "python"
    }
  },
  "cells": [
    {
      "cell_type": "code",
      "execution_count": null,
      "metadata": {
        "colab": {
          "base_uri": "https://localhost:8080/",
          "height": 472
        },
        "id": "RY-7-YTRNW4H",
        "outputId": "8cd0a321-787b-4592-893c-2ef31a6b28db"
      },
      "outputs": [
        {
          "output_type": "display_data",
          "data": {
            "text/plain": [
              "<Figure size 640x480 with 1 Axes>"
            ],
            "image/png": "[encoded data removed]"
          },
          "metadata": {}
        }
      ],
      "source": [
        "import matplotlib.pyplot as plt\n",
        "\n",
        "# Sample data\n",
        "x = [1, 2, 3, 4, 5]  # Example feature 1\n",
        "y = [2, 3, 5, 7, 6]  # Example feature 2\n",
        "\n",
        "# Creating the scatter plot\n",
        "plt.scatter(x, y, color='blue', label='Data Points')\n",
        "\n",
        "# Adding labels and title\n",
        "plt.xlabel('Feature 1')\n",
        "plt.ylabel('Feature 2')\n",
        "plt.title('Scatter Plot Example')\n",
        "\n",
        "# Adding legend\n",
        "plt.legend()\n",
        "\n",
        "# Displaying the plot\n",
        "plt.show()\n"
      ]
    },
    {
      "cell_type": "code",
      "source": [
        "import statsmodels.api as sm\n",
        "import numpy as np\n",
        "\n",
        "# Sample data\n",
        "X = np.array([1, 2, 3, 4, 5])  # Feature\n",
        "y = np.array([2, 3, 5, 7, 6])   # Target\n",
        "\n",
        "# Adding constant to X\n",
        "X_with_const = sm.add_constant(X)\n",
        "\n",
        "\n",
        "X_with_const"
      ],
      "metadata": {
        "colab": {
          "base_uri": "https://localhost:8080/"
        },
        "id": "BpyMZdzeOdgO",
        "outputId": "33f6a7b5-879f-4cad-c1ad-7bbfd1596ea8"
      },
      "execution_count": null,
      "outputs": [
        {
          "output_type": "execute_result",
          "data": {
            "text/plain": [
              "array([[1., 1.],\n",
              "       [1., 2.],\n",
              "       [1., 3.],\n",
              "       [1., 4.],\n",
              "       [1., 5.]])"
            ]
          },
          "metadata": {},
          "execution_count": 6
        }
      ]
    },
    {
      "cell_type": "code",
      "source": [
        "# Creating and fitting the OLS (Ordinary Least Squares) model\n",
        "model = sm.OLS(y, X_with_const)\n",
        "result = model.fit()\n",
        "\n",
        "# Printing the regression results\n",
        "print(result.summary())"
      ],
      "metadata": {
        "colab": {
          "base_uri": "https://localhost:8080/"
        },
        "id": "Ndmp5XlYOlLs",
        "outputId": "c43bfe21-ceb3-4dc7-8811-6e909ede97be"
      },
      "execution_count": null,
      "outputs": [
        {
          "output_type": "stream",
          "name": "stdout",
          "text": [
            "                            OLS Regression Results                            \n",
            "==============================================================================\n",
            "Dep. Variable:                      y   R-squared:                       0.837\n",
            "Model:                            OLS   Adj. R-squared:                  0.783\n",
            "Method:                 Least Squares   F-statistic:                     15.43\n",
            "Date:                Tue, 16 Apr 2024   Prob (F-statistic):             0.0294\n",
            "Time:                        18:46:04   Log-Likelihood:                -5.6451\n",
            "No. Observations:                   5   AIC:                             15.29\n",
            "Df Residuals:                       3   BIC:                             14.51\n",
            "Df Model:                           1                                         \n",
            "Covariance Type:            nonrobust                                         \n",
            "==============================================================================\n",
            "                 coef    std err          t      P>|t|      [0.025      0.975]\n",
            "------------------------------------------------------------------------------\n",
            "const          1.0000      1.013      0.987      0.396      -2.225       4.225\n",
            "x1             1.2000      0.306      3.928      0.029       0.228       2.172\n",
            "==============================================================================\n",
            "Omnibus:                          nan   Durbin-Watson:                   2.200\n",
            "Prob(Omnibus):                    nan   Jarque-Bera (JB):                0.309\n",
            "Skew:                           0.344   Prob(JB):                        0.857\n",
            "Kurtosis:                       1.994   Cond. No.                         8.37\n",
            "==============================================================================\n",
            "\n",
            "Notes:\n",
            "[1] Standard Errors assume that the covariance matrix of the errors is correctly specified.\n"
          ]
        },
        {
          "output_type": "stream",
          "name": "stderr",
          "text": [
            "/usr/local/lib/python3.10/dist-packages/statsmodels/stats/stattools.py:74: ValueWarning: omni_normtest is not valid with less than 8 observations; 5 samples were given.\n",
            "  warn(\"omni_normtest is not valid with less than 8 observations; %i \"\n"
          ]
        }
      ]
    }
  ]
}